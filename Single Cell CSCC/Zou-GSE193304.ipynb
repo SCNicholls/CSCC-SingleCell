{
 "cells": [
  {
   "cell_type": "code",
   "execution_count": 1,
   "id": "3d57306d-d8c0-43d9-ab4f-e80ba1a7c320",
   "metadata": {},
   "outputs": [],
   "source": [
    "import scanpy as sc\n",
    "import harmonypy as hm\n",
    "import pandas as pd\n",
    "import anndata as ad\n",
    "import numpy as np\n",
    "\n",
    "%config InlineBackend.figure_format = 'retina'\n",
    "%matplotlib inline\n",
    "\n",
    "import matplotlib as mpl\n",
    "import matplotlib.pyplot as plt\n",
    "#import seaborn as sns\n",
    "\n",
    "DPI=300\n",
    "FONTSIZE=20 #42\n",
    "\n",
    "random_state = 7\n",
    "\n",
    "sc.settings.verbosity = 3  # verbosity: errors (0), warnings (1), info (2), hints (3)\n",
    "sc.logging.print_header()\n",
    "sc.settings.set_figure_params(scanpy = True, dpi=80, transparent=True, vector_friendly = True, dpi_save=DPI) \n",
    "from matplotlib import rcParams\n",
    "rcParams['pdf.fonttype'] = 42"
   ]
  },
  {
   "cell_type": "code",
   "execution_count": 2,
   "id": "a943ba3a-001d-4d76-b139-f1f4f9513a7f",
   "metadata": {},
   "outputs": [
    {
     "name": "stdout",
     "output_type": "stream",
     "text": [
      "Reading: GSM5788492_S2_filtered_feature_bc_matrix\n",
      "reading /data/BCI-SingleCell/SCC_Atlas/Sam_Nicholls/Unzipped files/GSE193304/GSM5788492_S2_filtered_feature_bc_matrix.h5\n",
      " (0:00:07)\n"
     ]
    },
    {
     "name": "stderr",
     "output_type": "stream",
     "text": [
      "/data/home/ha20577/.conda/envs/scRNAseq3/lib/python3.10/site-packages/anndata/_core/anndata.py:1758: UserWarning: Variable names are not unique. To make them unique, call `.var_names_make_unique`.\n",
      "  utils.warn_names_duplicates(\"var\")\n"
     ]
    },
    {
     "name": "stdout",
     "output_type": "stream",
     "text": [
      "AnnData object with n_obs × n_vars = 16479 × 33538\n",
      "    var: 'gene_ids', 'feature_types', 'genome'\n",
      "Reading: GSM5788494_S4_filtered_feature_bc_matrix\n",
      "reading /data/BCI-SingleCell/SCC_Atlas/Sam_Nicholls/Unzipped files/GSE193304/GSM5788494_S4_filtered_feature_bc_matrix.h5\n"
     ]
    },
    {
     "name": "stderr",
     "output_type": "stream",
     "text": [
      "/data/home/ha20577/.conda/envs/scRNAseq3/lib/python3.10/site-packages/anndata/_core/anndata.py:1758: UserWarning: Variable names are not unique. To make them unique, call `.var_names_make_unique`.\n",
      "  utils.warn_names_duplicates(\"var\")\n"
     ]
    },
    {
     "name": "stdout",
     "output_type": "stream",
     "text": [
      " (0:00:08)\n"
     ]
    },
    {
     "name": "stderr",
     "output_type": "stream",
     "text": [
      "/data/home/ha20577/.conda/envs/scRNAseq3/lib/python3.10/site-packages/anndata/_core/anndata.py:1758: UserWarning: Variable names are not unique. To make them unique, call `.var_names_make_unique`.\n",
      "  utils.warn_names_duplicates(\"var\")\n"
     ]
    },
    {
     "name": "stdout",
     "output_type": "stream",
     "text": [
      "AnnData object with n_obs × n_vars = 22904 × 33538\n",
      "    var: 'gene_ids', 'feature_types', 'genome'\n",
      "Reading: GSM5788495_S5_filtered_feature_bc_matrix\n",
      "reading /data/BCI-SingleCell/SCC_Atlas/Sam_Nicholls/Unzipped files/GSE193304/GSM5788495_S5_filtered_feature_bc_matrix.h5\n"
     ]
    },
    {
     "name": "stderr",
     "output_type": "stream",
     "text": [
      "/data/home/ha20577/.conda/envs/scRNAseq3/lib/python3.10/site-packages/anndata/_core/anndata.py:1758: UserWarning: Variable names are not unique. To make them unique, call `.var_names_make_unique`.\n",
      "  utils.warn_names_duplicates(\"var\")\n"
     ]
    },
    {
     "name": "stdout",
     "output_type": "stream",
     "text": [
      " (0:00:07)\n"
     ]
    },
    {
     "name": "stderr",
     "output_type": "stream",
     "text": [
      "/data/home/ha20577/.conda/envs/scRNAseq3/lib/python3.10/site-packages/anndata/_core/anndata.py:1758: UserWarning: Variable names are not unique. To make them unique, call `.var_names_make_unique`.\n",
      "  utils.warn_names_duplicates(\"var\")\n"
     ]
    },
    {
     "name": "stdout",
     "output_type": "stream",
     "text": [
      "AnnData object with n_obs × n_vars = 16396 × 33538\n",
      "    var: 'gene_ids', 'feature_types', 'genome'\n",
      "Reading: GSM5788497_S7_filtered_feature_bc_matrix\n",
      "reading /data/BCI-SingleCell/SCC_Atlas/Sam_Nicholls/Unzipped files/GSE193304/GSM5788497_S7_filtered_feature_bc_matrix.h5\n"
     ]
    },
    {
     "name": "stderr",
     "output_type": "stream",
     "text": [
      "/data/home/ha20577/.conda/envs/scRNAseq3/lib/python3.10/site-packages/anndata/_core/anndata.py:1758: UserWarning: Variable names are not unique. To make them unique, call `.var_names_make_unique`.\n",
      "  utils.warn_names_duplicates(\"var\")\n"
     ]
    },
    {
     "name": "stdout",
     "output_type": "stream",
     "text": [
      " (0:00:05)\n"
     ]
    },
    {
     "name": "stderr",
     "output_type": "stream",
     "text": [
      "/data/home/ha20577/.conda/envs/scRNAseq3/lib/python3.10/site-packages/anndata/_core/anndata.py:1758: UserWarning: Variable names are not unique. To make them unique, call `.var_names_make_unique`.\n",
      "  utils.warn_names_duplicates(\"var\")\n"
     ]
    },
    {
     "name": "stdout",
     "output_type": "stream",
     "text": [
      "AnnData object with n_obs × n_vars = 10195 × 33538\n",
      "    var: 'gene_ids', 'feature_types', 'genome'\n",
      "Reading: GSM5788498_S8_filtered_feature_bc_matrix\n",
      "reading /data/BCI-SingleCell/SCC_Atlas/Sam_Nicholls/Unzipped files/GSE193304/GSM5788498_S8_filtered_feature_bc_matrix.h5\n"
     ]
    },
    {
     "name": "stderr",
     "output_type": "stream",
     "text": [
      "/data/home/ha20577/.conda/envs/scRNAseq3/lib/python3.10/site-packages/anndata/_core/anndata.py:1758: UserWarning: Variable names are not unique. To make them unique, call `.var_names_make_unique`.\n",
      "  utils.warn_names_duplicates(\"var\")\n"
     ]
    },
    {
     "name": "stdout",
     "output_type": "stream",
     "text": [
      " (0:00:04)\n"
     ]
    },
    {
     "name": "stderr",
     "output_type": "stream",
     "text": [
      "/data/home/ha20577/.conda/envs/scRNAseq3/lib/python3.10/site-packages/anndata/_core/anndata.py:1758: UserWarning: Variable names are not unique. To make them unique, call `.var_names_make_unique`.\n",
      "  utils.warn_names_duplicates(\"var\")\n"
     ]
    },
    {
     "name": "stdout",
     "output_type": "stream",
     "text": [
      "AnnData object with n_obs × n_vars = 13057 × 33538\n",
      "    var: 'gene_ids', 'feature_types', 'genome'\n",
      "Reading: GSM5788499_S9_filtered_feature_bc_matrix\n",
      "reading /data/BCI-SingleCell/SCC_Atlas/Sam_Nicholls/Unzipped files/GSE193304/GSM5788499_S9_filtered_feature_bc_matrix.h5\n"
     ]
    },
    {
     "name": "stderr",
     "output_type": "stream",
     "text": [
      "/data/home/ha20577/.conda/envs/scRNAseq3/lib/python3.10/site-packages/anndata/_core/anndata.py:1758: UserWarning: Variable names are not unique. To make them unique, call `.var_names_make_unique`.\n",
      "  utils.warn_names_duplicates(\"var\")\n"
     ]
    },
    {
     "name": "stdout",
     "output_type": "stream",
     "text": [
      " (0:00:03)\n"
     ]
    },
    {
     "name": "stderr",
     "output_type": "stream",
     "text": [
      "/data/home/ha20577/.conda/envs/scRNAseq3/lib/python3.10/site-packages/anndata/_core/anndata.py:1758: UserWarning: Variable names are not unique. To make them unique, call `.var_names_make_unique`.\n",
      "  utils.warn_names_duplicates(\"var\")\n"
     ]
    },
    {
     "name": "stdout",
     "output_type": "stream",
     "text": [
      "AnnData object with n_obs × n_vars = 5341 × 33538\n",
      "    var: 'gene_ids', 'feature_types', 'genome'\n",
      "Reading: GSM5788500_S10_filtered_feature_bc_matrix\n",
      "reading /data/BCI-SingleCell/SCC_Atlas/Sam_Nicholls/Unzipped files/GSE193304/GSM5788500_S10_filtered_feature_bc_matrix.h5\n"
     ]
    },
    {
     "name": "stderr",
     "output_type": "stream",
     "text": [
      "/data/home/ha20577/.conda/envs/scRNAseq3/lib/python3.10/site-packages/anndata/_core/anndata.py:1758: UserWarning: Variable names are not unique. To make them unique, call `.var_names_make_unique`.\n",
      "  utils.warn_names_duplicates(\"var\")\n"
     ]
    },
    {
     "name": "stdout",
     "output_type": "stream",
     "text": [
      " (0:00:07)\n"
     ]
    },
    {
     "name": "stderr",
     "output_type": "stream",
     "text": [
      "/data/home/ha20577/.conda/envs/scRNAseq3/lib/python3.10/site-packages/anndata/_core/anndata.py:1758: UserWarning: Variable names are not unique. To make them unique, call `.var_names_make_unique`.\n",
      "  utils.warn_names_duplicates(\"var\")\n"
     ]
    },
    {
     "name": "stdout",
     "output_type": "stream",
     "text": [
      "AnnData object with n_obs × n_vars = 16256 × 33538\n",
      "    var: 'gene_ids', 'feature_types', 'genome'\n",
      "Reading: GSM5788501_S11_filtered_feature_bc_matrix\n",
      "reading /data/BCI-SingleCell/SCC_Atlas/Sam_Nicholls/Unzipped files/GSE193304/GSM5788501_S11_filtered_feature_bc_matrix.h5\n"
     ]
    },
    {
     "name": "stderr",
     "output_type": "stream",
     "text": [
      "/data/home/ha20577/.conda/envs/scRNAseq3/lib/python3.10/site-packages/anndata/_core/anndata.py:1758: UserWarning: Variable names are not unique. To make them unique, call `.var_names_make_unique`.\n",
      "  utils.warn_names_duplicates(\"var\")\n"
     ]
    },
    {
     "name": "stdout",
     "output_type": "stream",
     "text": [
      " (0:00:06)\n"
     ]
    },
    {
     "name": "stderr",
     "output_type": "stream",
     "text": [
      "/data/home/ha20577/.conda/envs/scRNAseq3/lib/python3.10/site-packages/anndata/_core/anndata.py:1758: UserWarning: Variable names are not unique. To make them unique, call `.var_names_make_unique`.\n",
      "  utils.warn_names_duplicates(\"var\")\n"
     ]
    },
    {
     "name": "stdout",
     "output_type": "stream",
     "text": [
      "AnnData object with n_obs × n_vars = 13411 × 33538\n",
      "    var: 'gene_ids', 'feature_types', 'genome'\n",
      "Reading: GSM5788502_S12_filtered_feature_bc_matrix\n",
      "reading /data/BCI-SingleCell/SCC_Atlas/Sam_Nicholls/Unzipped files/GSE193304/GSM5788502_S12_filtered_feature_bc_matrix.h5\n"
     ]
    },
    {
     "name": "stderr",
     "output_type": "stream",
     "text": [
      "/data/home/ha20577/.conda/envs/scRNAseq3/lib/python3.10/site-packages/anndata/_core/anndata.py:1758: UserWarning: Variable names are not unique. To make them unique, call `.var_names_make_unique`.\n",
      "  utils.warn_names_duplicates(\"var\")\n"
     ]
    },
    {
     "name": "stdout",
     "output_type": "stream",
     "text": [
      " (0:00:04)\n"
     ]
    },
    {
     "name": "stderr",
     "output_type": "stream",
     "text": [
      "/data/home/ha20577/.conda/envs/scRNAseq3/lib/python3.10/site-packages/anndata/_core/anndata.py:1758: UserWarning: Variable names are not unique. To make them unique, call `.var_names_make_unique`.\n",
      "  utils.warn_names_duplicates(\"var\")\n"
     ]
    },
    {
     "name": "stdout",
     "output_type": "stream",
     "text": [
      "AnnData object with n_obs × n_vars = 9677 × 33538\n",
      "    var: 'gene_ids', 'feature_types', 'genome'\n",
      "Reading: GSM5788503_S13_filtered_feature_bc_matrix\n",
      "reading /data/BCI-SingleCell/SCC_Atlas/Sam_Nicholls/Unzipped files/GSE193304/GSM5788503_S13_filtered_feature_bc_matrix.h5\n"
     ]
    },
    {
     "name": "stderr",
     "output_type": "stream",
     "text": [
      "/data/home/ha20577/.conda/envs/scRNAseq3/lib/python3.10/site-packages/anndata/_core/anndata.py:1758: UserWarning: Variable names are not unique. To make them unique, call `.var_names_make_unique`.\n",
      "  utils.warn_names_duplicates(\"var\")\n"
     ]
    },
    {
     "name": "stdout",
     "output_type": "stream",
     "text": [
      " (0:00:05)\n"
     ]
    },
    {
     "name": "stderr",
     "output_type": "stream",
     "text": [
      "/data/home/ha20577/.conda/envs/scRNAseq3/lib/python3.10/site-packages/anndata/_core/anndata.py:1758: UserWarning: Variable names are not unique. To make them unique, call `.var_names_make_unique`.\n",
      "  utils.warn_names_duplicates(\"var\")\n"
     ]
    },
    {
     "name": "stdout",
     "output_type": "stream",
     "text": [
      "AnnData object with n_obs × n_vars = 10666 × 33538\n",
      "    var: 'gene_ids', 'feature_types', 'genome'\n"
     ]
    },
    {
     "name": "stderr",
     "output_type": "stream",
     "text": [
      "/data/home/ha20577/.conda/envs/scRNAseq3/lib/python3.10/site-packages/anndata/_core/anndata.py:1758: UserWarning: Variable names are not unique. To make them unique, call `.var_names_make_unique`.\n",
      "  utils.warn_names_duplicates(\"var\")\n"
     ]
    }
   ],
   "source": [
    "# Zou et al\n",
    "import os\n",
    "import scanpy as sc\n",
    "\n",
    "# Directory containing the 10X .h5 files\n",
    "input_dir = \"/data/BCI-SingleCell/SCC_Atlas/Sam_Nicholls/Unzipped files/GSE193304\"\n",
    "\n",
    "# Get all .h5 files, sorted to preserve file order\n",
    "file_list = sorted([os.path.join(input_dir, f) for f in os.listdir(input_dir) if f.endswith('.h5')])\n",
    "\n",
    "# List to store all AnnData objects in order\n",
    "adata_list = []\n",
    "adata_names = []\n",
    "\n",
    "# Loop through each .h5 file and read as 10X AnnData\n",
    "for file in file_list:\n",
    "    name = os.path.splitext(os.path.basename(file))[0]  # Remove .h5 extension\n",
    "    print(f\"Reading: {name}\")\n",
    "\n",
    "    try:\n",
    "        adata = sc.read_10x_h5(file)\n",
    "        adata.var_names_make_unique()\n",
    "    except Exception as e:\n",
    "        print(f\"❌ Error reading {file}: {e}\")\n",
    "        continue\n",
    "\n",
    "    # Save in list (preserves order)\n",
    "    adata_names.append(str(name))\n",
    "    adata_list.append(adata)\n",
    "\n",
    "    # Optionally assign to global variable by filename (like R's assign)\n",
    "    globals()[name] = adata\n",
    "\n",
    "    # Print quick summary\n",
    "    print(adata)"
   ]
  },
  {
   "cell_type": "code",
   "execution_count": 3,
   "id": "517b9c52-7dc1-40d9-aba0-f77adf733a19",
   "metadata": {},
   "outputs": [
    {
     "name": "stderr",
     "output_type": "stream",
     "text": [
      "/data/home/ha20577/.conda/envs/scRNAseq3/lib/python3.10/site-packages/anndata/_core/anndata.py:1756: UserWarning: Observation names are not unique. To make them unique, call `.obs_names_make_unique`.\n",
      "  utils.warn_names_duplicates(\"obs\")\n"
     ]
    }
   ],
   "source": [
    "GSE193304 = sc.concat(adata_list, join=\"outer\", label=\"batch\", keys=adata_names)"
   ]
  },
  {
   "cell_type": "code",
   "execution_count": 4,
   "id": "e95718e5-03ec-4de5-81d5-33c884c9dc19",
   "metadata": {},
   "outputs": [
    {
     "data": {
      "text/html": [
       "<div>\n",
       "<style scoped>\n",
       "    .dataframe tbody tr th:only-of-type {\n",
       "        vertical-align: middle;\n",
       "    }\n",
       "\n",
       "    .dataframe tbody tr th {\n",
       "        vertical-align: top;\n",
       "    }\n",
       "\n",
       "    .dataframe thead th {\n",
       "        text-align: right;\n",
       "    }\n",
       "</style>\n",
       "<table border=\"1\" class=\"dataframe\">\n",
       "  <thead>\n",
       "    <tr style=\"text-align: right;\">\n",
       "      <th></th>\n",
       "      <th>batch</th>\n",
       "    </tr>\n",
       "  </thead>\n",
       "  <tbody>\n",
       "    <tr>\n",
       "      <th>AAACCCAAGTCCCGGT-1</th>\n",
       "      <td>GSM5788492_S2_filtered_feature_bc_matrix</td>\n",
       "    </tr>\n",
       "    <tr>\n",
       "      <th>AAACCCACAAGAGGCT-1</th>\n",
       "      <td>GSM5788492_S2_filtered_feature_bc_matrix</td>\n",
       "    </tr>\n",
       "    <tr>\n",
       "      <th>AAACCCACAAGCCATT-1</th>\n",
       "      <td>GSM5788492_S2_filtered_feature_bc_matrix</td>\n",
       "    </tr>\n",
       "    <tr>\n",
       "      <th>AAACCCACACGCGTCA-1</th>\n",
       "      <td>GSM5788492_S2_filtered_feature_bc_matrix</td>\n",
       "    </tr>\n",
       "    <tr>\n",
       "      <th>AAACCCACACGTAGTT-1</th>\n",
       "      <td>GSM5788492_S2_filtered_feature_bc_matrix</td>\n",
       "    </tr>\n",
       "    <tr>\n",
       "      <th>...</th>\n",
       "      <td>...</td>\n",
       "    </tr>\n",
       "    <tr>\n",
       "      <th>TTTGTTGCAGTGTATC-1</th>\n",
       "      <td>GSM5788503_S13_filtered_feature_bc_matrix</td>\n",
       "    </tr>\n",
       "    <tr>\n",
       "      <th>TTTGTTGGTCAGGTAG-1</th>\n",
       "      <td>GSM5788503_S13_filtered_feature_bc_matrix</td>\n",
       "    </tr>\n",
       "    <tr>\n",
       "      <th>TTTGTTGTCCCATTCG-1</th>\n",
       "      <td>GSM5788503_S13_filtered_feature_bc_matrix</td>\n",
       "    </tr>\n",
       "    <tr>\n",
       "      <th>TTTGTTGTCTCTATAC-1</th>\n",
       "      <td>GSM5788503_S13_filtered_feature_bc_matrix</td>\n",
       "    </tr>\n",
       "    <tr>\n",
       "      <th>TTTGTTGTCTTACGGA-1</th>\n",
       "      <td>GSM5788503_S13_filtered_feature_bc_matrix</td>\n",
       "    </tr>\n",
       "  </tbody>\n",
       "</table>\n",
       "<p>134382 rows × 1 columns</p>\n",
       "</div>"
      ],
      "text/plain": [
       "                                                        batch\n",
       "AAACCCAAGTCCCGGT-1   GSM5788492_S2_filtered_feature_bc_matrix\n",
       "AAACCCACAAGAGGCT-1   GSM5788492_S2_filtered_feature_bc_matrix\n",
       "AAACCCACAAGCCATT-1   GSM5788492_S2_filtered_feature_bc_matrix\n",
       "AAACCCACACGCGTCA-1   GSM5788492_S2_filtered_feature_bc_matrix\n",
       "AAACCCACACGTAGTT-1   GSM5788492_S2_filtered_feature_bc_matrix\n",
       "...                                                       ...\n",
       "TTTGTTGCAGTGTATC-1  GSM5788503_S13_filtered_feature_bc_matrix\n",
       "TTTGTTGGTCAGGTAG-1  GSM5788503_S13_filtered_feature_bc_matrix\n",
       "TTTGTTGTCCCATTCG-1  GSM5788503_S13_filtered_feature_bc_matrix\n",
       "TTTGTTGTCTCTATAC-1  GSM5788503_S13_filtered_feature_bc_matrix\n",
       "TTTGTTGTCTTACGGA-1  GSM5788503_S13_filtered_feature_bc_matrix\n",
       "\n",
       "[134382 rows x 1 columns]"
      ]
     },
     "execution_count": 4,
     "metadata": {},
     "output_type": "execute_result"
    }
   ],
   "source": [
    "GSE193304.obs"
   ]
  },
  {
   "cell_type": "code",
   "execution_count": 5,
   "id": "c8b00ed4-365c-414e-880b-897848f383d7",
   "metadata": {},
   "outputs": [],
   "source": [
    "GSE193304.obs['Patient'] = GSE193304.obs['batch'].map({\n",
    "    'GSM5788492_S2_filtered_feature_bc_matrix': 'P22', 'GSM5788494_S4_filtered_feature_bc_matrix': 'P23',\n",
    "    'GSM5788495_S5_filtered_feature_bc_matrix': 'P23', 'GSM5788497_S7_filtered_feature_bc_matrix': 'P24',\n",
    "    'GSM5788498_S8_filtered_feature_bc_matrix': 'P25', 'GSM5788499_S9_filtered_feature_bc_matrix': 'P25',\n",
    "    'GSM5788500_S10_filtered_feature_bc_matrix': 'P26', 'GSM5788501_S11_filtered_feature_bc_matrix': 'P26',\n",
    "    'GSM5788502_S12_filtered_feature_bc_matrix': 'P27', 'GSM5788503_S13_filtered_feature_bc_matrix': 'P27', })\n",
    "\n",
    "GSE193304.obs['Condition'] = GSE193304.obs['batch'].map({\n",
    "    'GSM5788492_S2_filtered_feature_bc_matrix': 'Normal', 'GSM5788494_S4_filtered_feature_bc_matrix': 'Tumor',\n",
    "    'GSM5788495_S5_filtered_feature_bc_matrix': 'Normal', 'GSM5788497_S7_filtered_feature_bc_matrix': 'Normal',\n",
    "    'GSM5788498_S8_filtered_feature_bc_matrix': 'Tumor', 'GSM5788499_S9_filtered_feature_bc_matrix': 'Normal',\n",
    "    'GSM5788500_S10_filtered_feature_bc_matrix': 'Tumor', 'GSM5788501_S11_filtered_feature_bc_matrix': 'Normal',\n",
    "    'GSM5788502_S12_filtered_feature_bc_matrix': 'Tumor', 'GSM5788503_S13_filtered_feature_bc_matrix': 'Normal', })\n"
   ]
  },
  {
   "cell_type": "code",
   "execution_count": 6,
   "id": "de593866-2d5e-4942-bb63-e23e288d7fb0",
   "metadata": {},
   "outputs": [
    {
     "data": {
      "text/html": [
       "<div>\n",
       "<style scoped>\n",
       "    .dataframe tbody tr th:only-of-type {\n",
       "        vertical-align: middle;\n",
       "    }\n",
       "\n",
       "    .dataframe tbody tr th {\n",
       "        vertical-align: top;\n",
       "    }\n",
       "\n",
       "    .dataframe thead th {\n",
       "        text-align: right;\n",
       "    }\n",
       "</style>\n",
       "<table border=\"1\" class=\"dataframe\">\n",
       "  <thead>\n",
       "    <tr style=\"text-align: right;\">\n",
       "      <th></th>\n",
       "      <th>batch</th>\n",
       "      <th>Patient</th>\n",
       "      <th>Condition</th>\n",
       "    </tr>\n",
       "  </thead>\n",
       "  <tbody>\n",
       "    <tr>\n",
       "      <th>AAACCCAAGTCCCGGT-1</th>\n",
       "      <td>GSM5788492_S2_filtered_feature_bc_matrix</td>\n",
       "      <td>P22</td>\n",
       "      <td>Normal</td>\n",
       "    </tr>\n",
       "    <tr>\n",
       "      <th>AAACCCACAAGAGGCT-1</th>\n",
       "      <td>GSM5788492_S2_filtered_feature_bc_matrix</td>\n",
       "      <td>P22</td>\n",
       "      <td>Normal</td>\n",
       "    </tr>\n",
       "    <tr>\n",
       "      <th>AAACCCACAAGCCATT-1</th>\n",
       "      <td>GSM5788492_S2_filtered_feature_bc_matrix</td>\n",
       "      <td>P22</td>\n",
       "      <td>Normal</td>\n",
       "    </tr>\n",
       "    <tr>\n",
       "      <th>AAACCCACACGCGTCA-1</th>\n",
       "      <td>GSM5788492_S2_filtered_feature_bc_matrix</td>\n",
       "      <td>P22</td>\n",
       "      <td>Normal</td>\n",
       "    </tr>\n",
       "    <tr>\n",
       "      <th>AAACCCACACGTAGTT-1</th>\n",
       "      <td>GSM5788492_S2_filtered_feature_bc_matrix</td>\n",
       "      <td>P22</td>\n",
       "      <td>Normal</td>\n",
       "    </tr>\n",
       "    <tr>\n",
       "      <th>...</th>\n",
       "      <td>...</td>\n",
       "      <td>...</td>\n",
       "      <td>...</td>\n",
       "    </tr>\n",
       "    <tr>\n",
       "      <th>TTTGTTGCAGTGTATC-1</th>\n",
       "      <td>GSM5788503_S13_filtered_feature_bc_matrix</td>\n",
       "      <td>P27</td>\n",
       "      <td>Normal</td>\n",
       "    </tr>\n",
       "    <tr>\n",
       "      <th>TTTGTTGGTCAGGTAG-1</th>\n",
       "      <td>GSM5788503_S13_filtered_feature_bc_matrix</td>\n",
       "      <td>P27</td>\n",
       "      <td>Normal</td>\n",
       "    </tr>\n",
       "    <tr>\n",
       "      <th>TTTGTTGTCCCATTCG-1</th>\n",
       "      <td>GSM5788503_S13_filtered_feature_bc_matrix</td>\n",
       "      <td>P27</td>\n",
       "      <td>Normal</td>\n",
       "    </tr>\n",
       "    <tr>\n",
       "      <th>TTTGTTGTCTCTATAC-1</th>\n",
       "      <td>GSM5788503_S13_filtered_feature_bc_matrix</td>\n",
       "      <td>P27</td>\n",
       "      <td>Normal</td>\n",
       "    </tr>\n",
       "    <tr>\n",
       "      <th>TTTGTTGTCTTACGGA-1</th>\n",
       "      <td>GSM5788503_S13_filtered_feature_bc_matrix</td>\n",
       "      <td>P27</td>\n",
       "      <td>Normal</td>\n",
       "    </tr>\n",
       "  </tbody>\n",
       "</table>\n",
       "<p>134382 rows × 3 columns</p>\n",
       "</div>"
      ],
      "text/plain": [
       "                                                        batch Patient  \\\n",
       "AAACCCAAGTCCCGGT-1   GSM5788492_S2_filtered_feature_bc_matrix     P22   \n",
       "AAACCCACAAGAGGCT-1   GSM5788492_S2_filtered_feature_bc_matrix     P22   \n",
       "AAACCCACAAGCCATT-1   GSM5788492_S2_filtered_feature_bc_matrix     P22   \n",
       "AAACCCACACGCGTCA-1   GSM5788492_S2_filtered_feature_bc_matrix     P22   \n",
       "AAACCCACACGTAGTT-1   GSM5788492_S2_filtered_feature_bc_matrix     P22   \n",
       "...                                                       ...     ...   \n",
       "TTTGTTGCAGTGTATC-1  GSM5788503_S13_filtered_feature_bc_matrix     P27   \n",
       "TTTGTTGGTCAGGTAG-1  GSM5788503_S13_filtered_feature_bc_matrix     P27   \n",
       "TTTGTTGTCCCATTCG-1  GSM5788503_S13_filtered_feature_bc_matrix     P27   \n",
       "TTTGTTGTCTCTATAC-1  GSM5788503_S13_filtered_feature_bc_matrix     P27   \n",
       "TTTGTTGTCTTACGGA-1  GSM5788503_S13_filtered_feature_bc_matrix     P27   \n",
       "\n",
       "                   Condition  \n",
       "AAACCCAAGTCCCGGT-1    Normal  \n",
       "AAACCCACAAGAGGCT-1    Normal  \n",
       "AAACCCACAAGCCATT-1    Normal  \n",
       "AAACCCACACGCGTCA-1    Normal  \n",
       "AAACCCACACGTAGTT-1    Normal  \n",
       "...                      ...  \n",
       "TTTGTTGCAGTGTATC-1    Normal  \n",
       "TTTGTTGGTCAGGTAG-1    Normal  \n",
       "TTTGTTGTCCCATTCG-1    Normal  \n",
       "TTTGTTGTCTCTATAC-1    Normal  \n",
       "TTTGTTGTCTTACGGA-1    Normal  \n",
       "\n",
       "[134382 rows x 3 columns]"
      ]
     },
     "execution_count": 6,
     "metadata": {},
     "output_type": "execute_result"
    }
   ],
   "source": [
    "GSE193304.obs"
   ]
  },
  {
   "cell_type": "code",
   "execution_count": 7,
   "id": "16843baf-b56b-4a4e-93f2-0c9457b43a68",
   "metadata": {},
   "outputs": [],
   "source": [
    "GSE193304.write_h5ad(\"Anndata/GSE193304.h5ad\") "
   ]
  }
 ],
 "metadata": {
  "kernelspec": {
   "display_name": "scRNAseq3",
   "language": "python",
   "name": "scrnaseq3"
  },
  "language_info": {
   "codemirror_mode": {
    "name": "ipython",
    "version": 3
   },
   "file_extension": ".py",
   "mimetype": "text/x-python",
   "name": "python",
   "nbconvert_exporter": "python",
   "pygments_lexer": "ipython3",
   "version": "3.10.16"
  }
 },
 "nbformat": 4,
 "nbformat_minor": 5
}
